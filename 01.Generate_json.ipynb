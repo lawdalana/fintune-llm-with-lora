{
 "cells": [
  {
   "cell_type": "code",
   "execution_count": null,
   "id": "9e141144-a59e-4a73-934b-efd5f09a70d8",
   "metadata": {},
   "outputs": [],
   "source": [
    "# !pip install Faker"
   ]
  },
  {
   "cell_type": "code",
   "execution_count": null,
   "id": "29fa116e-f7e0-4e57-a150-f1af23580c59",
   "metadata": {},
   "outputs": [],
   "source": [
    "from faker import Faker\n",
    "from faker.providers import DynamicProvider\n",
    "import random\n",
    "import pandas as pd\n",
    "\n",
    "job_provider = DynamicProvider(\n",
    "     provider_name=\"job\",\n",
    "     elements=[\n",
    "         \"student\", \"doctor\", \"nurse\", \"teacher\", \"software enginerr\",\n",
    "         \"data science\", \"data engineer\", \"tester\", \"data analyst\",\n",
    "         \"lawyer\", \"mechanic\", \"accountant\", \"sales\", \"chef\", \"police\",\n",
    "         \"architect\", \"graphic designer\", \"plumber\", \"marketing\", \"dentist\",\n",
    "         \"electrician\"\n",
    "        ],\n",
    ")\n",
    "\n",
    "fake = Faker()\n",
    "\n",
    "fake.add_provider(job_provider)"
   ]
  },
  {
   "cell_type": "code",
   "execution_count": null,
   "id": "2309e28c-014b-41f5-b404-bc7963d246c0",
   "metadata": {},
   "outputs": [],
   "source": [
    "column = [\"uid\", \"name\", \"age\", \"job\"]"
   ]
  },
  {
   "cell_type": "code",
   "execution_count": null,
   "id": "d13747cf-eb1a-40d2-ba5a-d84fee0fc417",
   "metadata": {},
   "outputs": [],
   "source": [
    "data = []\n",
    "for i in range(2000):\n",
    "    data.append(\n",
    "        (\"id\"+str(i).rjust(5, \"0\"), fake.name(), random.randint(10, 70), fake.job())\n",
    "    )"
   ]
  },
  {
   "cell_type": "code",
   "execution_count": null,
   "id": "6364b8d1-5c76-4226-bdf9-472ad4160bae",
   "metadata": {},
   "outputs": [],
   "source": [
    "df = pd.DataFrame(data, columns=column)"
   ]
  },
  {
   "cell_type": "code",
   "execution_count": null,
   "id": "403355a5-e15a-49a2-84f9-c1395639d3ca",
   "metadata": {},
   "outputs": [],
   "source": [
    "df.to_json('./dataset/raw.json', index=False)\n",
    "df.to_csv('./dataset/raw.csv', index=False)"
   ]
  },
  {
   "cell_type": "code",
   "execution_count": null,
   "id": "2513c863-94f1-4395-bd42-aec18ceb2df0",
   "metadata": {},
   "outputs": [],
   "source": [
    "df"
   ]
  },
  {
   "cell_type": "code",
   "execution_count": null,
   "id": "157c2895-785d-4079-917f-a690d93cb95c",
   "metadata": {},
   "outputs": [],
   "source": []
  }
 ],
 "metadata": {
  "kernelspec": {
   "display_name": "Python 3 (ipykernel)",
   "language": "python",
   "name": "python3"
  },
  "language_info": {
   "codemirror_mode": {
    "name": "ipython",
    "version": 3
   },
   "file_extension": ".py",
   "mimetype": "text/x-python",
   "name": "python",
   "nbconvert_exporter": "python",
   "pygments_lexer": "ipython3",
   "version": "3.11.7"
  }
 },
 "nbformat": 4,
 "nbformat_minor": 5
}
