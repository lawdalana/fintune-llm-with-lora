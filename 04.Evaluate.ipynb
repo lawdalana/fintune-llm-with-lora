{
 "cells": [
  {
   "cell_type": "code",
   "execution_count": null,
   "id": "f8a74513-b080-440e-9338-0da00854ae6d",
   "metadata": {},
   "outputs": [],
   "source": [
    "import pandas as pd\n",
    "from openai import OpenAI\n",
    "import re\n",
    "import time\n",
    "import pickle\n",
    "import re"
   ]
  },
  {
   "cell_type": "markdown",
   "id": "09814a42-4121-41a1-b94f-457fcc92d09d",
   "metadata": {},
   "source": [
    "# Set up"
   ]
  },
  {
   "cell_type": "code",
   "execution_count": null,
   "id": "761c39f6-2267-4c3b-a8fe-b250091b2b42",
   "metadata": {},
   "outputs": [],
   "source": [
    "client = OpenAI(base_url=\"http://localhost:1234/v1\", api_key=\"lm-studio\")"
   ]
  },
  {
   "cell_type": "code",
   "execution_count": null,
   "id": "cb549de9-a249-4330-b111-19be5a8b5620",
   "metadata": {},
   "outputs": [],
   "source": [
    "def get_text_between_quotes(input_string):\n",
    "    pattern = r'\"([^\"]*)\"'\n",
    "    matches = re.findall(pattern, input_string)\n",
    "    try:\n",
    "        return matches[0]\n",
    "    except Exception as e:\n",
    "        return input_string"
   ]
  },
  {
   "cell_type": "code",
   "execution_count": null,
   "id": "6f781ae5-9262-4f6e-af9e-221f07406020",
   "metadata": {},
   "outputs": [],
   "source": [
    "with open('./dataset/full_formal_script_temp0.8.pkl', 'rb') as fp:\n",
    "    data_formal = pickle.load(fp)\n",
    "\n",
    "with open('./dataset/full_informal_script_temp0.8.pkl', 'rb') as fp:\n",
    "    data_informal = pickle.load(fp)\n",
    "\n",
    "with open('./dataset/full_novel_script_temp0.8.pkl', 'rb') as fp:\n",
    "    data_novel = pickle.load(fp)\n",
    "\n",
    "df = pd.read_csv('./dataset/raw.csv', index_col='uid')"
   ]
  },
  {
   "cell_type": "code",
   "execution_count": null,
   "id": "e27dfd9d-2e54-4e83-8957-d720c23ee4b5",
   "metadata": {
    "collapsed": true,
    "jupyter": {
     "outputs_hidden": true
    }
   },
   "outputs": [],
   "source": [
    "data_novel"
   ]
  },
  {
   "cell_type": "markdown",
   "id": "2e972301-84fe-4269-96af-1ade10d39fe1",
   "metadata": {},
   "source": [
    "# Load model"
   ]
  },
  {
   "cell_type": "markdown",
   "id": "b2cea868",
   "metadata": {},
   "source": [
    "## Load finetuned model"
   ]
  },
  {
   "cell_type": "code",
   "execution_count": null,
   "id": "d01d34ff-6821-49e7-bfb8-d0937d16adac",
   "metadata": {},
   "outputs": [],
   "source": [
    "import torch\n",
    "from transformers import AutoTokenizer, AutoModelForCausalLM\n",
    "from peft import PeftModel, PeftConfig"
   ]
  },
  {
   "cell_type": "code",
   "execution_count": null,
   "id": "95f7e6ed-7b88-4baf-9237-eea169753a67",
   "metadata": {},
   "outputs": [],
   "source": [
    "model_path = \"./Tuning/checkpoint/Phi-3-mini-4k-instruct\"\n",
    "token_path = f\"{model_path}/tokenize\""
   ]
  },
  {
   "cell_type": "code",
   "execution_count": null,
   "id": "9e583bac-e8cf-4b33-9d91-9ce9113b9106",
   "metadata": {},
   "outputs": [],
   "source": [
    "tokenizer = AutoTokenizer.from_pretrained(token_path)"
   ]
  },
  {
   "cell_type": "code",
   "execution_count": null,
   "id": "4067dc6b-d42f-4313-94f4-ba4d1b867de9",
   "metadata": {},
   "outputs": [],
   "source": [
    "peft_config = PeftConfig.from_pretrained(model_path)"
   ]
  },
  {
   "cell_type": "code",
   "execution_count": null,
   "id": "43f905ac-eb8c-458e-88e7-7069b0fb6463",
   "metadata": {},
   "outputs": [],
   "source": [
    "base_model = AutoModelForCausalLM.from_pretrained(\n",
    "    peft_config.base_model_name_or_path,\n",
    "    torch_dtype=torch.float16,\n",
    "    device_map=\"auto\",\n",
    ")"
   ]
  },
  {
   "cell_type": "code",
   "execution_count": null,
   "id": "992d2aa1-1c80-4daf-b997-f00d6fbc3c74",
   "metadata": {},
   "outputs": [],
   "source": [
    "model = PeftModel.from_pretrained(base_model, model_path)"
   ]
  },
  {
   "cell_type": "code",
   "execution_count": null,
   "id": "41baaa29-0476-4d1f-a372-bdbb9fb15090",
   "metadata": {},
   "outputs": [],
   "source": [
    "model = model.merge_and_unload()"
   ]
  },
  {
   "cell_type": "code",
   "execution_count": null,
   "id": "d4ec3ff0-6ad1-4441-b9c8-9a896ffac238",
   "metadata": {
    "collapsed": true,
    "jupyter": {
     "outputs_hidden": true
    }
   },
   "outputs": [],
   "source": [
    "model.eval()"
   ]
  },
  {
   "cell_type": "code",
   "execution_count": null,
   "id": "3dde6384-4376-433d-acb3-a9dfb93d7d32",
   "metadata": {},
   "outputs": [],
   "source": [
    "def generate_text(prompt, max_length=400, temperature=0.7):\n",
    "    inputs = tokenizer(prompt, return_tensors=\"pt\").to(model.device)\n",
    "    with torch.no_grad():\n",
    "        outputs = model.generate(\n",
    "            **inputs,\n",
    "            max_length=max_length,\n",
    "            num_return_sequences=1,\n",
    "            temperature=temperature,\n",
    "            do_sample=True,\n",
    "        )\n",
    "    return tokenizer.decode(outputs[0], skip_special_tokens=True)"
   ]
  },
  {
   "cell_type": "code",
   "execution_count": null,
   "id": "7d81d95a-21f2-4131-94ad-ef9b320875db",
   "metadata": {},
   "outputs": [],
   "source": [
    "def get_dict(text):\n",
    "    res = None\n",
    "    try:\n",
    "        res = re.findall('{.*}', text)[0]\n",
    "        res = eval(res)\n",
    "    except:\n",
    "        print(f\"Error: {text}\")\n",
    "    return res"
   ]
  },
  {
   "cell_type": "code",
   "execution_count": null,
   "id": "a7352ef2-fb08-4cab-93db-bce6baf12e74",
   "metadata": {},
   "outputs": [],
   "source": [
    "prompt = \"\"\"<|system|>\n",
    "You are a helpful, smart, kind, and efficient AI assistant. You always fulfill the user's requests to the best of your ability.<|end|>\n",
    "<|user|>\n",
    "Extract name, age, job from the sentence to json format. if the information doesn't exist fill null.\n",
    "\n",
    "Sentence: 'John Doe is a 35-year-old software engineer with a passion for artificial intelligence.'<|end|>\n",
    "<|assistant|>\n",
    "\"\"\"\n",
    "\n",
    "generated_text_low_temp = generate_text(prompt, temperature=0.1)\n",
    "get_dict(generated_text_low_temp)"
   ]
  },
  {
   "cell_type": "markdown",
   "id": "6e0d2283-48cb-4ce5-a648-86597181140d",
   "metadata": {},
   "source": [
    "# Predict"
   ]
  },
  {
   "cell_type": "code",
   "execution_count": null,
   "id": "fb3ae2cd-4d8a-4fad-bac5-5ccedfa45cc0",
   "metadata": {},
   "outputs": [],
   "source": [
    "def call_llm(data):\n",
    "    promtp = \"\"\"Extract name, age, job from the sentence to json format. \n",
    "    if the information doesn't exsits fill null.\n",
    "    \n",
    "    sentence: '{}'\n",
    "    \"\"\"\n",
    "    \n",
    "    start_time = time.time()\n",
    "    completion = client.chat.completions.create(\n",
    "      model=\"microsoft/Phi-3-mini-4k-instruct-gguf\",\n",
    "      messages=[\n",
    "        {\"role\": \"system\", \"content\": \"You are a helpful, smart, kind, and efficient AI assistant. You always fulfill the user's requests to the best of your ability.\"},\n",
    "        {\"role\": \"user\", \"content\": promtp.format(data)}\n",
    "      ],\n",
    "      temperature=0,\n",
    "    )\n",
    "    end_time = time.time()\n",
    "    content = completion.choices[0].message.content\n",
    "    return end_time-start_time, content.strip().replace('null', '\\\"\\\"')\n",
    "\n",
    "def call_llm_model(data):\n",
    "    prompt = f\"\"\"<|system|>\n",
    "You are a helpful, smart, kind, and efficient AI assistant. You always fulfill the user's requests to the best of your ability.<|end|>\n",
    "<|user|>\n",
    "Extract name, age, job from the sentence to json format. if the information doesn't exist fill null.\n",
    "\n",
    "Sentence: '{data}'<|end|>\n",
    "<|assistant|>\"\"\"\n",
    "    start_time = time.time()\n",
    "    generated_text_low_temp = generate_text(prompt, temperature=0.1)\n",
    "    end_time = time.time()\n",
    "    return end_time-start_time, get_dict(generated_text_low_temp)"
   ]
  },
  {
   "cell_type": "code",
   "execution_count": null,
   "id": "ab25a3ad-f261-4d1a-a7cf-84e7bdb177a1",
   "metadata": {},
   "outputs": [],
   "source": [
    "# Predict formal data\n",
    "predict_data = {}\n",
    "for temp in data_formal:\n",
    "    for id in data_formal[temp]:\n",
    "        # _, result = call_llm(data_formal[temp][id]) # Before finetune\n",
    "        _, result = call_llm_model(data_formal[temp][id]) # After finetune\n",
    "        try:\n",
    "            if not isinstance(result, dict):\n",
    "                predict_data[id] = eval(result)\n",
    "            else:\n",
    "                predict_data[id] = result\n",
    "        except:\n",
    "            print(result)\n",
    "\n",
    "# with open('./dataset/predict_formal_script.pkl', 'wb') as fp:\n",
    "#     pickle.dump(predict_data, fp)\n",
    "with open('./dataset/finetune_predict_formal_script.pkl', 'wb') as fp:\n",
    "    pickle.dump(predict_data, fp)"
   ]
  },
  {
   "cell_type": "code",
   "execution_count": null,
   "id": "d3c847d0-7c72-45b9-af2e-3d6c6c094ffc",
   "metadata": {},
   "outputs": [],
   "source": [
    "# Predict informal data\n",
    "predict_data = {}\n",
    "for temp in data_informal:\n",
    "    for id in data_informal[temp]:\n",
    "        # _, result = call_llm(data_informal[temp][id]) # Before finetune\n",
    "        _, result = call_llm_model(data_informal[temp][id]) # After finetune\n",
    "        try:\n",
    "            if not isinstance(result, dict):\n",
    "                predict_data[id] = eval(result)\n",
    "            else:\n",
    "                predict_data[id] = result\n",
    "        except:\n",
    "            print(result)\n",
    "\n",
    "# with open('./dataset/predict_informal_script.pkl', 'wb') as fp:\n",
    "#     pickle.dump(predict_data, fp)\n",
    "with open('./dataset/finetune_predict_informal_script.pkl', 'wb') as fp:\n",
    "    pickle.dump(predict_data, fp)"
   ]
  },
  {
   "cell_type": "code",
   "execution_count": null,
   "id": "172841b9-ead9-4b7d-8603-a486939475c0",
   "metadata": {},
   "outputs": [],
   "source": [
    "# Predict novel data\n",
    "predict_data = {}\n",
    "for temp in data_novel:\n",
    "    for id in data_novel[temp]:\n",
    "        # _, result = call_llm(data_novel[temp][id]) # Before finetune\n",
    "        _, result = call_llm_model(data_novel[temp][id]) # After finetune\n",
    "        try:\n",
    "            if not isinstance(result, dict):\n",
    "                predict_data[id] = eval(result)\n",
    "            else:\n",
    "                predict_data[id] = result\n",
    "        except:\n",
    "            print(result)\n",
    "\n",
    "# with open('./dataset/predict_novel_script.pkl', 'wb') as fp:\n",
    "#     pickle.dump(predict_data, fp)\n",
    "with open('./dataset/finetune_predict_novel_script.pkl', 'wb') as fp:\n",
    "    pickle.dump(predict_data, fp)"
   ]
  },
  {
   "cell_type": "markdown",
   "id": "d9c5d5e3-b7b9-42c0-90d3-b87f850d6b8c",
   "metadata": {},
   "source": [
    "# Evaluate"
   ]
  },
  {
   "cell_type": "markdown",
   "id": "e8248bb8-8409-4a6d-a9ce-94f0029e758e",
   "metadata": {},
   "source": [
    "## Calculate score"
   ]
  },
  {
   "cell_type": "code",
   "execution_count": null,
   "id": "5fa2d6d4-947a-404b-96b2-e6ab3549b48b",
   "metadata": {},
   "outputs": [],
   "source": [
    "with open('./dataset/predict_formal_script.pkl', 'rb') as fp:\n",
    "    predict_formal = pickle.load(fp)\n",
    "\n",
    "with open('./dataset/predict_informal_script.pkl', 'rb') as fp:\n",
    "    predict_informal = pickle.load(fp)\n",
    "\n",
    "with open('./dataset/predict_novel_script.pkl', 'rb') as fp:\n",
    "    predict_novel = pickle.load(fp)\n",
    "\n",
    "with open('./dataset/finetune_predict_formal_script.pkl', 'rb') as fp:\n",
    "    finetune_predict_formal = pickle.load(fp)\n",
    "\n",
    "with open('./dataset/finetune_predict_informal_script.pkl', 'rb') as fp:\n",
    "    finetune_predict_informal = pickle.load(fp)\n",
    "\n",
    "with open('./dataset/finetune_predict_novel_script.pkl', 'rb') as fp:\n",
    "    finetune_predict_novel = pickle.load(fp)\n",
    "\n",
    "with open('./dataset/full_formal_script_temp0.8.pkl', 'rb') as fp:\n",
    "    data_formal = pickle.load(fp)\n",
    "\n",
    "with open('./dataset/full_informal_script_temp0.8.pkl', 'rb') as fp:\n",
    "    data_informal = pickle.load(fp)\n",
    "\n",
    "with open('./dataset/full_novel_script_temp0.8.pkl', 'rb') as fp:\n",
    "    data_novel = pickle.load(fp)\n",
    "\n",
    "df = pd.read_csv('./dataset/raw.csv', index_col='uid')"
   ]
  },
  {
   "cell_type": "code",
   "execution_count": null,
   "id": "998df5c7-6d0b-4b0c-a9c8-be7ad25a130f",
   "metadata": {},
   "outputs": [],
   "source": [
    "datasets = ['formal', 'informal', 'novel']\n",
    "features = ['name', 'age', 'job']\n",
    "for dataset in datasets:\n",
    "    for feature in features:\n",
    "        key = f\"pred_{dataset}_{feature}\"\n",
    "        key = f\"finetune_pred_{dataset}_{feature}\"\n",
    "        df[key] = None"
   ]
  },
  {
   "cell_type": "markdown",
   "id": "c2e5b702",
   "metadata": {},
   "source": [
    "## Evaluate finetune model"
   ]
  },
  {
   "cell_type": "code",
   "execution_count": null,
   "id": "25771062-ab57-477b-94a3-45342bcc9ed1",
   "metadata": {},
   "outputs": [],
   "source": [
    "for i in finetune_predict_formal:\n",
    "    dataset = 'formal'\n",
    "    for feature in features:\n",
    "        key = f\"finetune_pred_{dataset}_{feature}\"\n",
    "        try:\n",
    "            if isinstance(finetune_predict_formal[i][feature], list):\n",
    "                df.loc[i, key] =  \" \".join(finetune_predict_formal[i][feature])\n",
    "            else:\n",
    "                df.loc[i, key] =  finetune_predict_formal[i][feature]\n",
    "        except Exception as e:\n",
    "            print(f\"{e}\")\n",
    "\n",
    "for i in finetune_predict_informal:\n",
    "    dataset = 'informal'\n",
    "    for feature in features:\n",
    "        key = f\"finetune_pred_{dataset}_{feature}\"\n",
    "        try:\n",
    "            if isinstance(finetune_predict_informal[i][feature], list):\n",
    "                df.loc[i, key] =  \" \".join(finetune_predict_informal[i][feature])\n",
    "            else:\n",
    "                df.loc[i, key] =  finetune_predict_informal[i][feature]\n",
    "        except Exception as e:\n",
    "            print(f\"{e}\")\n",
    "\n",
    "for i in finetune_predict_novel:\n",
    "    dataset = 'novel'\n",
    "    for feature in features:\n",
    "        key = f\"finetune_pred_{dataset}_{feature}\"\n",
    "        try:\n",
    "            if isinstance(finetune_predict_novel[i][feature], list):\n",
    "                df.loc[i, key] =  \" \".join(finetune_predict_novel[i][feature])\n",
    "            else:\n",
    "                df.loc[i, key] =  finetune_predict_novel[i][feature]\n",
    "        except Exception as e:\n",
    "            print(f\"{e}\")"
   ]
  },
  {
   "cell_type": "markdown",
   "id": "eb434e07",
   "metadata": {},
   "source": [
    "## Evaluate base model"
   ]
  },
  {
   "cell_type": "code",
   "execution_count": null,
   "id": "e26ef0b4-ff9c-420d-b02c-2df9251a402e",
   "metadata": {},
   "outputs": [],
   "source": [
    "for i in predict_formal:\n",
    "    dataset = 'formal'\n",
    "    for feature in features:\n",
    "        key = f\"pred_{dataset}_{feature}\"\n",
    "        try:\n",
    "            if isinstance(predict_formal[i][feature], list):\n",
    "                df.loc[i, key] =  \" \".join(predict_formal[i][feature])\n",
    "            else:\n",
    "                df.loc[i, key] =  predict_formal[i][feature]\n",
    "        except Exception as e:\n",
    "            print(f\"{e}\")\n",
    "\n",
    "for i in predict_informal:\n",
    "    dataset = 'informal'\n",
    "    for feature in features:\n",
    "        key = f\"pred_{dataset}_{feature}\"\n",
    "        try:\n",
    "            if isinstance(predict_informal[i][feature], list):\n",
    "                df.loc[i, key] =  \" \".join(predict_informal[i][feature])\n",
    "            else:\n",
    "                df.loc[i, key] =  predict_informal[i][feature]\n",
    "        except Exception as e:\n",
    "            print(f\"{e}\")\n",
    "\n",
    "for i in predict_novel:\n",
    "    dataset = 'novel'\n",
    "    for feature in features:\n",
    "        key = f\"pred_{dataset}_{feature}\"\n",
    "        try:\n",
    "            if isinstance(predict_novel[i][feature], list):\n",
    "                df.loc[i, key] =  \" \".join(predict_novel[i][feature])\n",
    "            else:\n",
    "                df.loc[i, key] =  predict_novel[i][feature]\n",
    "        except Exception as e:\n",
    "            print(f\"{e}\")"
   ]
  },
  {
   "cell_type": "code",
   "execution_count": null,
   "id": "ef1a8d8c-7077-4839-81be-09e3c317ee61",
   "metadata": {},
   "outputs": [],
   "source": [
    "for dataset in datasets:\n",
    "    for feature in features:\n",
    "        key = f\"pred_{dataset}_{feature}\"\n",
    "        score_key = f\"pred_{dataset}_{feature}_score\"\n",
    "        df[score_key] = df[feature] == df[key]\n",
    "        \n",
    "        key = f\"finetune_pred_{dataset}_{feature}\"\n",
    "        score_key = f\"finetune_pred_{dataset}_{feature}_score\"\n",
    "        df[score_key] = df[feature] == df[key]"
   ]
  },
  {
   "cell_type": "markdown",
   "id": "07c0eb2e",
   "metadata": {},
   "source": [
    "## Calculate all dataset"
   ]
  },
  {
   "cell_type": "code",
   "execution_count": null,
   "id": "7ff281d1-12f8-4bf8-bb0f-e854a1de4b95",
   "metadata": {},
   "outputs": [],
   "source": [
    "lenght = len(df)\n",
    "for dataset in datasets:\n",
    "    print(f\"-------- {dataset.capitalize()} --------\")\n",
    "    for feature in features:\n",
    "        score_key = f\"pred_{dataset}_{feature}_score\"\n",
    "        print(f\"{feature.capitalize()} accuracy: {sum(df[score_key]) / len(df)}\")\n",
    "    print(f\"========================================\\n\")\n",
    "\n",
    "\n",
    "for dataset in datasets:\n",
    "    print(f\"-------- Finetune - {dataset.capitalize()} --------\")\n",
    "    for feature in features:\n",
    "        score_key = f\"finetune_pred_{dataset}_{feature}_score\"\n",
    "        print(f\"{feature.capitalize()} accuracy: {sum(df[score_key]) / len(df)}\")\n",
    "    print(f\"========================================\\n\")"
   ]
  },
  {
   "cell_type": "code",
   "execution_count": null,
   "id": "21ebbbe6-c8c4-48e4-a5e9-899670a3b038",
   "metadata": {},
   "outputs": [],
   "source": [
    "# -------- Formal --------\n",
    "# Name accuracy: 0.8715\n",
    "# Age accuracy: 0.959\n",
    "# Job accuracy: 0.612\n",
    "# ========================================\n",
    "\n",
    "# -------- Informal --------\n",
    "# Name accuracy: 0.8985\n",
    "# Age accuracy: 0.989\n",
    "# Job accuracy: 0.686\n",
    "# ========================================\n",
    "\n",
    "# -------- Novel --------\n",
    "# Name accuracy: 0.882\n",
    "# Age accuracy: 0.95\n",
    "# Job accuracy: 0.5505\n",
    "# ========================================\n",
    "\n",
    "# -------- Finetune - Formal --------\n",
    "# Name accuracy: 0.984\n",
    "# Age accuracy: 0.984\n",
    "# Job accuracy: 0.9995\n",
    "# ========================================\n",
    "\n",
    "# -------- Finetune - Informal --------\n",
    "# Name accuracy: 0.9775\n",
    "# Age accuracy: 0.9985\n",
    "# Job accuracy: 1.0\n",
    "# ========================================\n",
    "\n",
    "# -------- Finetune - Novel --------\n",
    "# Name accuracy: 0.949\n",
    "# Age accuracy: 0.9595\n",
    "# Job accuracy: 0.9885\n",
    "# ========================================"
   ]
  },
  {
   "cell_type": "markdown",
   "id": "40570719-413f-4576-8422-bffe3ddf6b25",
   "metadata": {},
   "source": [
    "## Calculate only test dataset"
   ]
  },
  {
   "cell_type": "code",
   "execution_count": null,
   "id": "0b9c80ec-f123-451e-9b76-d2a1d9a4a744",
   "metadata": {},
   "outputs": [],
   "source": [
    "lenght = len(df)\n",
    "test_df = df[1800:]\n",
    "for dataset in datasets:\n",
    "    print(f\"-------- Test dataset - {dataset.capitalize()} --------\")\n",
    "    for feature in features:\n",
    "        score_key = f\"pred_{dataset}_{feature}_score\"\n",
    "        print(f\"{feature.capitalize()} accuracy: {sum(test_df[score_key]) / len(test_df)}\")\n",
    "    print(f\"========================================\\n\")\n",
    "\n",
    "\n",
    "for dataset in datasets:\n",
    "    print(f\"-------- Finetune test dataset - {dataset.capitalize()} --------\")\n",
    "    for feature in features:\n",
    "        score_key = f\"finetune_pred_{dataset}_{feature}_score\"\n",
    "        print(f\"{feature.capitalize()} accuracy: {sum(test_df[score_key]) / len(test_df)}\")\n",
    "    print(f\"========================================\\n\")"
   ]
  },
  {
   "cell_type": "code",
   "execution_count": null,
   "id": "2485ebf6-1715-4b5f-a66a-d383b86170c3",
   "metadata": {},
   "outputs": [],
   "source": [
    "# -------- Test dataset - Formal --------\n",
    "# Name accuracy: 0.87\n",
    "# Age accuracy: 0.965\n",
    "# Job accuracy: 0.685\n",
    "# ========================================\n",
    "\n",
    "# -------- Test dataset - Informal --------\n",
    "# Name accuracy: 0.895\n",
    "# Age accuracy: 0.98\n",
    "# Job accuracy: 0.75\n",
    "# ========================================\n",
    "\n",
    "# -------- Test dataset - Novel --------\n",
    "# Name accuracy: 0.875\n",
    "# Age accuracy: 0.935\n",
    "# Job accuracy: 0.55\n",
    "# ========================================\n",
    "\n",
    "# -------- Finetune test dataset - Formal --------\n",
    "# Name accuracy: 0.965\n",
    "# Age accuracy: 0.975\n",
    "# Job accuracy: 1.0\n",
    "# ========================================\n",
    "\n",
    "# -------- Finetune test dataset - Informal --------\n",
    "# Name accuracy: 0.96\n",
    "# Age accuracy: 0.995\n",
    "# Job accuracy: 1.0\n",
    "# ========================================\n",
    "\n",
    "# -------- Finetune test dataset - Novel --------\n",
    "# Name accuracy: 0.925\n",
    "# Age accuracy: 0.93\n",
    "# Job accuracy: 0.955\n",
    "# ========================================"
   ]
  }
 ],
 "metadata": {
  "kernelspec": {
   "display_name": "Python 3 (ipykernel)",
   "language": "python",
   "name": "python3"
  },
  "language_info": {
   "codemirror_mode": {
    "name": "ipython",
    "version": 3
   },
   "file_extension": ".py",
   "mimetype": "text/x-python",
   "name": "python",
   "nbconvert_exporter": "python",
   "pygments_lexer": "ipython3",
   "version": "3.11.7"
  }
 },
 "nbformat": 4,
 "nbformat_minor": 5
}
