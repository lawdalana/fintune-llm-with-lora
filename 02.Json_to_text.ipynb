{
 "cells": [
  {
   "cell_type": "code",
   "execution_count": null,
   "id": "1d8f4279-6e3d-49c7-bebe-7eb918e6777e",
   "metadata": {},
   "outputs": [],
   "source": [
    "import pandas as pd\n",
    "from openai import OpenAI\n",
    "import re\n",
    "import time\n",
    "import pickle"
   ]
  },
  {
   "cell_type": "code",
   "execution_count": null,
   "id": "1e873027-ea94-4242-8e5a-802deba00e14",
   "metadata": {},
   "outputs": [],
   "source": [
    "df = pd.read_csv('./dataset/raw.csv', )"
   ]
  },
  {
   "cell_type": "code",
   "execution_count": null,
   "id": "7f031b7a-e34c-4a97-9619-165d973575ef",
   "metadata": {},
   "outputs": [],
   "source": [
    "df"
   ]
  },
  {
   "cell_type": "code",
   "execution_count": null,
   "id": "597bb7db-8036-4ded-aa37-dae1642275c4",
   "metadata": {},
   "outputs": [],
   "source": [
    "client = OpenAI(base_url=\"http://localhost:1234/v1\", api_key=\"lm-studio\")"
   ]
  },
  {
   "cell_type": "code",
   "execution_count": null,
   "id": "4c6c878e-2107-4de4-95e4-8a18e01e1a39",
   "metadata": {},
   "outputs": [],
   "source": [
    "def get_text_between_quotes(input_string):\n",
    "    pattern = r'\"([^\"]*)\"'\n",
    "    matches = re.findall(pattern, input_string)\n",
    "    try:\n",
    "        return matches[0]\n",
    "    except Exception as e:\n",
    "        return input_string"
   ]
  },
  {
   "cell_type": "markdown",
   "id": "a49e5af7-294b-48d5-94f1-1fd77bad97c8",
   "metadata": {},
   "source": [
    "# Zero shot generate"
   ]
  },
  {
   "cell_type": "markdown",
   "id": "dc691247-0d7f-4059-b78e-136e1db67102",
   "metadata": {},
   "source": [
    "## Test"
   ]
  },
  {
   "cell_type": "code",
   "execution_count": null,
   "id": "7e1ce2ee-c926-41c7-bdd7-d7d8e121c2c4",
   "metadata": {},
   "outputs": [],
   "source": [
    "promt = \"\"\"\n",
    "Generate formal script 1 paragraph to introduce with these information\n",
    "- name: {}\n",
    "- age: {}\n",
    "- job: {}\n",
    "\"\"\"\n",
    "\n",
    "data = df.loc[0]\n",
    "start_time = time.time()\n",
    "completion = client.chat.completions.create(\n",
    "  model=\"lmstudio-community/Meta-Llama-3-8B-Instruct-GGUF\",\n",
    "  messages=[\n",
    "    {\"role\": \"system\", \"content\": \"Provide only answer don't repeat the question.\"},\n",
    "    {\"role\": \"user\", \"content\": promt.format(data[\"name\"], data[\"age\"], data[\"job\"])}\n",
    "  ],\n",
    "  temperature=0,\n",
    ")\n",
    "content = completion.choices[0].message.content\n",
    "text = get_text_between_quotes(content)\n",
    "end_time = time.time()\n",
    "print(f\"Time use: {end_time - start_time} -- text: {text}\")"
   ]
  },
  {
   "cell_type": "code",
   "execution_count": null,
   "id": "508d3ba0-d57e-4f84-8f73-75cb9f6ddbf3",
   "metadata": {},
   "outputs": [],
   "source": [
    "promt = \"\"\"\n",
    "Generate informal script 1 paragraph to introduce with these information\n",
    "- name: {}\n",
    "- age: {}\n",
    "- job: {}\n",
    "\"\"\"\n",
    "\n",
    "data = df.loc[0]\n",
    "start_time = time.time()\n",
    "completion = client.chat.completions.create(\n",
    "  model=\"lmstudio-community/Meta-Llama-3-8B-Instruct-GGUF\",\n",
    "  messages=[\n",
    "    {\"role\": \"system\", \"content\": \"Provide only answer don't repeat the question.\"},\n",
    "    {\"role\": \"user\", \"content\": promt.format(data[\"name\"], data[\"age\"], data[\"job\"])}\n",
    "  ],\n",
    "  temperature=0,\n",
    ")\n",
    "content = completion.choices[0].message.content\n",
    "text = get_text_between_quotes(content)\n",
    "end_time = time.time()\n",
    "print(f\"Time use: {end_time - start_time} -- text: {text}\")"
   ]
  },
  {
   "cell_type": "code",
   "execution_count": null,
   "id": "df3cc18a-8f3d-4080-a854-a50ff27c2dad",
   "metadata": {
    "jupyter": {
     "source_hidden": true
    }
   },
   "outputs": [],
   "source": [
    "promt = \"\"\"\n",
    "Generate 1 paragraph story which include following information \n",
    "- name: {}\n",
    "- age: {}\n",
    "- job: {}\n",
    "\"\"\"\n",
    "\n",
    "data = df.loc[0]\n",
    "start_time = time.time()\n",
    "completion = client.chat.completions.create(\n",
    "  model=\"lmstudio-community/Meta-Llama-3-8B-Instruct-GGUF\",\n",
    "  messages=[\n",
    "    {\"role\": \"system\", \"content\": \"Provide only answer don't repeat the question.\"},\n",
    "    {\"role\": \"user\", \"content\": promt.format(data[\"name\"], data[\"age\"], data[\"job\"])}\n",
    "  ],\n",
    "  temperature=0,\n",
    ")\n",
    "content = completion.choices[0].message.content\n",
    "text = get_text_between_quotes(content)\n",
    "end_time = time.time()\n",
    "print(f\"Time use: {end_time - start_time} -- text: {text}\")"
   ]
  },
  {
   "cell_type": "code",
   "execution_count": null,
   "id": "3d13fb76-d139-4186-b676-eaeccc2cde59",
   "metadata": {
    "jupyter": {
     "source_hidden": true
    }
   },
   "outputs": [],
   "source": [
    "promt = \"\"\"\n",
    "Generate 1 paragraph story which include following information \n",
    "- name: {}\n",
    "- age: {}\n",
    "- job: {}\n",
    "\"\"\"\n",
    "\n",
    "data = df.loc[0]\n",
    "start_time = time.time()\n",
    "completion = client.chat.completions.create(\n",
    "  model=\"lmstudio-community/Meta-Llama-3-8B-Instruct-GGUF\",\n",
    "  messages=[\n",
    "    {\"role\": \"system\", \"content\": \"Provide only answer don't repeat the question.\"},\n",
    "    {\"role\": \"user\", \"content\": promt.format(data[\"name\"], data[\"age\"], data[\"job\"])}\n",
    "  ],\n",
    "  temperature=0,\n",
    ")\n",
    "content = completion.choices[0].message.content\n",
    "text = get_text_between_quotes(content)\n",
    "end_time = time.time()\n",
    "print(f\"Time use: {end_time - start_time} -- text: {text}\")"
   ]
  },
  {
   "cell_type": "markdown",
   "id": "dd3629af-f6ca-4c52-b0d6-2aacdfd6a60c",
   "metadata": {},
   "source": [
    "## Generate zero shot"
   ]
  },
  {
   "cell_type": "code",
   "execution_count": null,
   "id": "d4b6ec3e-31c1-43cc-8261-4dc6e45d4607",
   "metadata": {},
   "outputs": [],
   "source": [
    "formal_script = {}\n",
    "# for temp in [0, 0.3, 0.8, 1.3]:\n",
    "for temp in [0.8]:\n",
    "    promt = \"\"\"\n",
    "    Generate formal script 1 paragraph to introduce with these information\n",
    "    - name: {}\n",
    "    - age: {}\n",
    "    - job: {}\n",
    "    \"\"\"\n",
    "\n",
    "    key = f\"temp_{temp}\"\n",
    "    formal_script[key] = {}\n",
    "    for _, data in df.iterrows():\n",
    "        completion = client.chat.completions.create(\n",
    "          model=\"lmstudio-community/Meta-Llama-3-8B-Instruct-GGUF\",\n",
    "          messages=[\n",
    "            {\"role\": \"system\", \"content\": \"Provide only answer don't repeat the question.\"},\n",
    "            {\"role\": \"user\", \"content\": promt.format(data[\"name\"], data[\"age\"], data[\"job\"])}\n",
    "          ],\n",
    "          temperature=temp,\n",
    "        )\n",
    "        content = completion.choices[0].message.content\n",
    "        try:\n",
    "            text = get_text_between_quotes(content)\n",
    "        except Exception as e:\n",
    "            text = content\n",
    "        formal_script[key][data[\"uid\"]] = text"
   ]
  },
  {
   "cell_type": "code",
   "execution_count": null,
   "id": "635ee047-7c45-49e9-b365-76e7824e74eb",
   "metadata": {},
   "outputs": [],
   "source": [
    "with open('./dataset/formal_script.pkl', 'wb') as fp:\n",
    "    pickle.dump(formal_script, fp)"
   ]
  },
  {
   "cell_type": "code",
   "execution_count": null,
   "id": "802faef4-0ec6-4da8-bb08-36df0162f3a2",
   "metadata": {},
   "outputs": [],
   "source": [
    "informal_script = {}\n",
    "# for temp in [0, 0.3, 0.8, 1.3]:\n",
    "for temp in [0.8]:\n",
    "    promt = \"\"\"\n",
    "    Generate informal script 1 paragraph to introduce with these information\n",
    "    - name: {}\n",
    "    - age: {}\n",
    "    - job: {}\n",
    "    \"\"\"\n",
    "\n",
    "    key = f\"temp_{temp}\"\n",
    "    informal_script[key] = {}\n",
    "    for _, data in df.iterrows():\n",
    "        completion = client.chat.completions.create(\n",
    "          model=\"lmstudio-community/Meta-Llama-3-8B-Instruct-GGUF\",\n",
    "          messages=[\n",
    "            {\"role\": \"system\", \"content\": \"Provide only answer don't repeat the question.\"},\n",
    "            {\"role\": \"user\", \"content\": promt.format(data[\"name\"], data[\"age\"], data[\"job\"])}\n",
    "          ],\n",
    "          temperature=temp,\n",
    "        )\n",
    "        content = completion.choices[0].message.content\n",
    "        try:\n",
    "            text = get_text_between_quotes(content)\n",
    "        except Exception as e:\n",
    "            text = content\n",
    "        informal_script[key][data[\"uid\"]] = text"
   ]
  },
  {
   "cell_type": "code",
   "execution_count": null,
   "id": "dd2bf5c0-b79b-4bb4-91ca-71ee61fb23f4",
   "metadata": {},
   "outputs": [],
   "source": [
    "with open('./dataset/informal_script.pkl', 'wb') as fp:\n",
    "    pickle.dump(informal_script, fp)"
   ]
  },
  {
   "cell_type": "code",
   "execution_count": null,
   "id": "4f340a41-976a-428d-91f5-01a89450b350",
   "metadata": {},
   "outputs": [],
   "source": [
    "novel_script = {}\n",
    "# for temp in [0, 0.3, 0.8, 1.3]:\n",
    "for temp in [0.8]:\n",
    "    promt = \"\"\"\n",
    "    Generate 1 paragraph story which include following information \n",
    "    - name: {}\n",
    "    - age: {}\n",
    "    - job: {}\n",
    "    \"\"\"\n",
    "\n",
    "    key = f\"temp_{temp}\"\n",
    "    novel_script[key] = {}\n",
    "    for _, data in df.iterrows():\n",
    "        completion = client.chat.completions.create(\n",
    "          model=\"lmstudio-community/Meta-Llama-3-8B-Instruct-GGUF\",\n",
    "          messages=[\n",
    "            {\"role\": \"system\", \"content\": \"Provide only answer don't repeat the question.\"},\n",
    "            {\"role\": \"user\", \"content\": promt.format(data[\"name\"], data[\"age\"], data[\"job\"])}\n",
    "          ],\n",
    "          temperature=temp,\n",
    "        )\n",
    "        content = completion.choices[0].message.content\n",
    "        try:\n",
    "            text = get_text_between_quotes(content)\n",
    "        except Exception as e:\n",
    "            text = content\n",
    "        novel_script[key][data[\"uid\"]] = text"
   ]
  },
  {
   "cell_type": "code",
   "execution_count": null,
   "id": "08e85737-e297-4168-875b-3d0feb61d701",
   "metadata": {},
   "outputs": [],
   "source": [
    "with open('./dataset/novel_script.pkl', 'wb') as fp:\n",
    "    pickle.dump(novel_script, fp)"
   ]
  },
  {
   "cell_type": "code",
   "execution_count": null,
   "id": "d5ec0f9f-2ed3-4850-be1e-ab12b7f0d730",
   "metadata": {},
   "outputs": [],
   "source": []
  },
  {
   "cell_type": "code",
   "execution_count": null,
   "id": "ae385a9a-d14a-4525-a12e-0dda2dd7f0f4",
   "metadata": {},
   "outputs": [],
   "source": []
  }
 ],
 "metadata": {
  "kernelspec": {
   "display_name": "Python 3 (ipykernel)",
   "language": "python",
   "name": "python3"
  },
  "language_info": {
   "codemirror_mode": {
    "name": "ipython",
    "version": 3
   },
   "file_extension": ".py",
   "mimetype": "text/x-python",
   "name": "python",
   "nbconvert_exporter": "python",
   "pygments_lexer": "ipython3",
   "version": "3.11.7"
  }
 },
 "nbformat": 4,
 "nbformat_minor": 5
}
